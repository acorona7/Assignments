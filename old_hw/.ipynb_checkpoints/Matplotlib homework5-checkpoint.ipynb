{
 "cells": [
  {
   "cell_type": "code",
   "execution_count": 1,
   "metadata": {
    "scrolled": false
   },
   "outputs": [
    {
     "data": {
      "text/html": [
       "<div>\n",
       "<style scoped>\n",
       "    .dataframe tbody tr th:only-of-type {\n",
       "        vertical-align: middle;\n",
       "    }\n",
       "\n",
       "    .dataframe tbody tr th {\n",
       "        vertical-align: top;\n",
       "    }\n",
       "\n",
       "    .dataframe thead th {\n",
       "        text-align: right;\n",
       "    }\n",
       "</style>\n",
       "<table border=\"1\" class=\"dataframe\">\n",
       "  <thead>\n",
       "    <tr style=\"text-align: right;\">\n",
       "      <th></th>\n",
       "      <th>city</th>\n",
       "      <th>date</th>\n",
       "      <th>fare</th>\n",
       "      <th>ride_id</th>\n",
       "      <th>driver_count</th>\n",
       "      <th>type</th>\n",
       "    </tr>\n",
       "  </thead>\n",
       "  <tbody>\n",
       "    <tr>\n",
       "      <th>0</th>\n",
       "      <td>Lake Jonathanshire</td>\n",
       "      <td>1/14/2018 10:14</td>\n",
       "      <td>13.83</td>\n",
       "      <td>5.739410e+12</td>\n",
       "      <td>5</td>\n",
       "      <td>Urban</td>\n",
       "    </tr>\n",
       "    <tr>\n",
       "      <th>1</th>\n",
       "      <td>Lake Jonathanshire</td>\n",
       "      <td>4/7/2018 20:51</td>\n",
       "      <td>31.25</td>\n",
       "      <td>4.441250e+12</td>\n",
       "      <td>5</td>\n",
       "      <td>Urban</td>\n",
       "    </tr>\n",
       "    <tr>\n",
       "      <th>2</th>\n",
       "      <td>Lake Jonathanshire</td>\n",
       "      <td>3/9/2018 23:45</td>\n",
       "      <td>19.89</td>\n",
       "      <td>2.389500e+12</td>\n",
       "      <td>5</td>\n",
       "      <td>Urban</td>\n",
       "    </tr>\n",
       "    <tr>\n",
       "      <th>3</th>\n",
       "      <td>Lake Jonathanshire</td>\n",
       "      <td>4/7/2018 18:09</td>\n",
       "      <td>24.28</td>\n",
       "      <td>7.796810e+12</td>\n",
       "      <td>5</td>\n",
       "      <td>Urban</td>\n",
       "    </tr>\n",
       "    <tr>\n",
       "      <th>4</th>\n",
       "      <td>Lake Jonathanshire</td>\n",
       "      <td>1/2/2018 14:14</td>\n",
       "      <td>13.89</td>\n",
       "      <td>4.242550e+11</td>\n",
       "      <td>5</td>\n",
       "      <td>Urban</td>\n",
       "    </tr>\n",
       "  </tbody>\n",
       "</table>\n",
       "</div>"
      ],
      "text/plain": [
       "                 city             date   fare       ride_id  driver_count  \\\n",
       "0  Lake Jonathanshire  1/14/2018 10:14  13.83  5.739410e+12             5   \n",
       "1  Lake Jonathanshire   4/7/2018 20:51  31.25  4.441250e+12             5   \n",
       "2  Lake Jonathanshire   3/9/2018 23:45  19.89  2.389500e+12             5   \n",
       "3  Lake Jonathanshire   4/7/2018 18:09  24.28  7.796810e+12             5   \n",
       "4  Lake Jonathanshire   1/2/2018 14:14  13.89  4.242550e+11             5   \n",
       "\n",
       "    type  \n",
       "0  Urban  \n",
       "1  Urban  \n",
       "2  Urban  \n",
       "3  Urban  \n",
       "4  Urban  "
      ]
     },
     "execution_count": 1,
     "metadata": {},
     "output_type": "execute_result"
    }
   ],
   "source": [
    "%matplotlib inline\n",
    "# Dependencies and Setup\n",
    "import matplotlib.pyplot as plt\n",
    "import pandas as pd\n",
    "import numpy as np\n",
    "\n",
    "# File to Load (Remember to change these)\n",
    "city_data_to_load = \"data/city_data.csv\"\n",
    "ride_data_to_load = \"data/ride_data.csv\"\n",
    "\n",
    "# Read the City and Ride Data\n",
    "\n",
    "city_data = pd.read_csv(\"05-Matplotlib_Instructions_Pyber_data_city_data.csv\")\n",
    "ride_data = pd.read_csv(\"05-Matplotlib_Instructions_Pyber_data_ride_data.csv\")\n",
    "\n",
    "# Combine the data into a single dataset\n",
    "\n",
    "merged_df = ride_data.merge(city_data, left_on='city', right_on='city')\n",
    "\n",
    "# Display the data table for preview\n",
    "\n",
    "merged_df.head()"
   ]
  },
  {
   "cell_type": "code",
   "execution_count": 2,
   "metadata": {},
   "outputs": [
    {
     "data": {
      "text/plain": [
       "city\n",
       "Amandaburgh      24.641667\n",
       "Barajasview      25.332273\n",
       "Barronchester    36.422500\n",
       "Bethanyland      32.956111\n",
       "Bradshawfurt     40.064000\n",
       "Name: fare, dtype: float64"
      ]
     },
     "execution_count": 2,
     "metadata": {},
     "output_type": "execute_result"
    }
   ],
   "source": [
    "avg_fare = merged_df.groupby([\"city\"])[\"fare\"].mean()\n",
    "avg_fare.head()"
   ]
  },
  {
   "cell_type": "code",
   "execution_count": 3,
   "metadata": {},
   "outputs": [
    {
     "data": {
      "text/html": [
       "<div>\n",
       "<style scoped>\n",
       "    .dataframe tbody tr th:only-of-type {\n",
       "        vertical-align: middle;\n",
       "    }\n",
       "\n",
       "    .dataframe tbody tr th {\n",
       "        vertical-align: top;\n",
       "    }\n",
       "\n",
       "    .dataframe thead th {\n",
       "        text-align: right;\n",
       "    }\n",
       "</style>\n",
       "<table border=\"1\" class=\"dataframe\">\n",
       "  <thead>\n",
       "    <tr style=\"text-align: right;\">\n",
       "      <th></th>\n",
       "      <th>avg_fare</th>\n",
       "    </tr>\n",
       "    <tr>\n",
       "      <th>city</th>\n",
       "      <th></th>\n",
       "    </tr>\n",
       "  </thead>\n",
       "  <tbody>\n",
       "    <tr>\n",
       "      <th>Amandaburgh</th>\n",
       "      <td>24.641667</td>\n",
       "    </tr>\n",
       "    <tr>\n",
       "      <th>Barajasview</th>\n",
       "      <td>25.332273</td>\n",
       "    </tr>\n",
       "    <tr>\n",
       "      <th>Barronchester</th>\n",
       "      <td>36.422500</td>\n",
       "    </tr>\n",
       "    <tr>\n",
       "      <th>Bethanyland</th>\n",
       "      <td>32.956111</td>\n",
       "    </tr>\n",
       "    <tr>\n",
       "      <th>Bradshawfurt</th>\n",
       "      <td>40.064000</td>\n",
       "    </tr>\n",
       "  </tbody>\n",
       "</table>\n",
       "</div>"
      ],
      "text/plain": [
       "                avg_fare\n",
       "city                    \n",
       "Amandaburgh    24.641667\n",
       "Barajasview    25.332273\n",
       "Barronchester  36.422500\n",
       "Bethanyland    32.956111\n",
       "Bradshawfurt   40.064000"
      ]
     },
     "execution_count": 3,
     "metadata": {},
     "output_type": "execute_result"
    }
   ],
   "source": [
    "avg_fare = avg_fare.to_frame(name='avg_fare')\n",
    "avg_fare.head()"
   ]
  },
  {
   "cell_type": "code",
   "execution_count": 4,
   "metadata": {},
   "outputs": [
    {
     "data": {
      "text/html": [
       "<div>\n",
       "<style scoped>\n",
       "    .dataframe tbody tr th:only-of-type {\n",
       "        vertical-align: middle;\n",
       "    }\n",
       "\n",
       "    .dataframe tbody tr th {\n",
       "        vertical-align: top;\n",
       "    }\n",
       "\n",
       "    .dataframe thead th {\n",
       "        text-align: right;\n",
       "    }\n",
       "</style>\n",
       "<table border=\"1\" class=\"dataframe\">\n",
       "  <thead>\n",
       "    <tr style=\"text-align: right;\">\n",
       "      <th></th>\n",
       "      <th>city</th>\n",
       "      <th>avg_fare</th>\n",
       "      <th>date</th>\n",
       "      <th>fare</th>\n",
       "      <th>ride_id</th>\n",
       "      <th>driver_count</th>\n",
       "      <th>type</th>\n",
       "    </tr>\n",
       "  </thead>\n",
       "  <tbody>\n",
       "    <tr>\n",
       "      <th>0</th>\n",
       "      <td>Amandaburgh</td>\n",
       "      <td>24.641667</td>\n",
       "      <td>3/5/2018 2:15</td>\n",
       "      <td>26.28</td>\n",
       "      <td>9.068510e+11</td>\n",
       "      <td>12</td>\n",
       "      <td>Urban</td>\n",
       "    </tr>\n",
       "    <tr>\n",
       "      <th>1</th>\n",
       "      <td>Amandaburgh</td>\n",
       "      <td>24.641667</td>\n",
       "      <td>2/24/2018 23:10</td>\n",
       "      <td>43.66</td>\n",
       "      <td>6.573820e+12</td>\n",
       "      <td>12</td>\n",
       "      <td>Urban</td>\n",
       "    </tr>\n",
       "    <tr>\n",
       "      <th>2</th>\n",
       "      <td>Amandaburgh</td>\n",
       "      <td>24.641667</td>\n",
       "      <td>2/10/2018 20:42</td>\n",
       "      <td>36.17</td>\n",
       "      <td>6.455620e+12</td>\n",
       "      <td>12</td>\n",
       "      <td>Urban</td>\n",
       "    </tr>\n",
       "    <tr>\n",
       "      <th>3</th>\n",
       "      <td>Amandaburgh</td>\n",
       "      <td>24.641667</td>\n",
       "      <td>1/11/2018 2:22</td>\n",
       "      <td>29.24</td>\n",
       "      <td>7.279900e+12</td>\n",
       "      <td>12</td>\n",
       "      <td>Urban</td>\n",
       "    </tr>\n",
       "    <tr>\n",
       "      <th>4</th>\n",
       "      <td>Amandaburgh</td>\n",
       "      <td>24.641667</td>\n",
       "      <td>1/21/2018 4:12</td>\n",
       "      <td>9.26</td>\n",
       "      <td>5.528430e+12</td>\n",
       "      <td>12</td>\n",
       "      <td>Urban</td>\n",
       "    </tr>\n",
       "  </tbody>\n",
       "</table>\n",
       "</div>"
      ],
      "text/plain": [
       "          city   avg_fare             date   fare       ride_id  driver_count  \\\n",
       "0  Amandaburgh  24.641667    3/5/2018 2:15  26.28  9.068510e+11            12   \n",
       "1  Amandaburgh  24.641667  2/24/2018 23:10  43.66  6.573820e+12            12   \n",
       "2  Amandaburgh  24.641667  2/10/2018 20:42  36.17  6.455620e+12            12   \n",
       "3  Amandaburgh  24.641667   1/11/2018 2:22  29.24  7.279900e+12            12   \n",
       "4  Amandaburgh  24.641667   1/21/2018 4:12   9.26  5.528430e+12            12   \n",
       "\n",
       "    type  \n",
       "0  Urban  \n",
       "1  Urban  \n",
       "2  Urban  \n",
       "3  Urban  \n",
       "4  Urban  "
      ]
     },
     "execution_count": 4,
     "metadata": {},
     "output_type": "execute_result"
    }
   ],
   "source": [
    "test = avg_fare.merge(merged_df, left_on='city', right_on='city')\n",
    "test.head()"
   ]
  },
  {
   "cell_type": "code",
   "execution_count": 5,
   "metadata": {},
   "outputs": [
    {
     "data": {
      "text/html": [
       "<div>\n",
       "<style scoped>\n",
       "    .dataframe tbody tr th:only-of-type {\n",
       "        vertical-align: middle;\n",
       "    }\n",
       "\n",
       "    .dataframe tbody tr th {\n",
       "        vertical-align: top;\n",
       "    }\n",
       "\n",
       "    .dataframe thead th {\n",
       "        text-align: right;\n",
       "    }\n",
       "</style>\n",
       "<table border=\"1\" class=\"dataframe\">\n",
       "  <thead>\n",
       "    <tr style=\"text-align: right;\">\n",
       "      <th></th>\n",
       "      <th>city</th>\n",
       "      <th>avg_fare</th>\n",
       "      <th>date</th>\n",
       "      <th>fare</th>\n",
       "      <th>ride_id</th>\n",
       "      <th>driver_count</th>\n",
       "      <th>type</th>\n",
       "    </tr>\n",
       "  </thead>\n",
       "  <tbody>\n",
       "    <tr>\n",
       "      <th>0</th>\n",
       "      <td>Amandaburgh</td>\n",
       "      <td>24.641667</td>\n",
       "      <td>3/5/2018 2:15</td>\n",
       "      <td>26.28</td>\n",
       "      <td>9.068510e+11</td>\n",
       "      <td>12</td>\n",
       "      <td>Urban</td>\n",
       "    </tr>\n",
       "    <tr>\n",
       "      <th>18</th>\n",
       "      <td>Barajasview</td>\n",
       "      <td>25.332273</td>\n",
       "      <td>1/15/2018 2:59</td>\n",
       "      <td>19.52</td>\n",
       "      <td>8.268110e+12</td>\n",
       "      <td>26</td>\n",
       "      <td>Urban</td>\n",
       "    </tr>\n",
       "    <tr>\n",
       "      <th>40</th>\n",
       "      <td>Barronchester</td>\n",
       "      <td>36.422500</td>\n",
       "      <td>1/27/2018 3:08</td>\n",
       "      <td>27.79</td>\n",
       "      <td>6.653620e+12</td>\n",
       "      <td>11</td>\n",
       "      <td>Suburban</td>\n",
       "    </tr>\n",
       "    <tr>\n",
       "      <th>56</th>\n",
       "      <td>Bethanyland</td>\n",
       "      <td>32.956111</td>\n",
       "      <td>4/1/2018 22:04</td>\n",
       "      <td>38.71</td>\n",
       "      <td>8.221080e+12</td>\n",
       "      <td>22</td>\n",
       "      <td>Suburban</td>\n",
       "    </tr>\n",
       "    <tr>\n",
       "      <th>74</th>\n",
       "      <td>Bradshawfurt</td>\n",
       "      <td>40.064000</td>\n",
       "      <td>3/6/2018 21:44</td>\n",
       "      <td>19.74</td>\n",
       "      <td>6.080370e+12</td>\n",
       "      <td>7</td>\n",
       "      <td>Rural</td>\n",
       "    </tr>\n",
       "  </tbody>\n",
       "</table>\n",
       "</div>"
      ],
      "text/plain": [
       "             city   avg_fare            date   fare       ride_id  \\\n",
       "0     Amandaburgh  24.641667   3/5/2018 2:15  26.28  9.068510e+11   \n",
       "18    Barajasview  25.332273  1/15/2018 2:59  19.52  8.268110e+12   \n",
       "40  Barronchester  36.422500  1/27/2018 3:08  27.79  6.653620e+12   \n",
       "56    Bethanyland  32.956111  4/1/2018 22:04  38.71  8.221080e+12   \n",
       "74   Bradshawfurt  40.064000  3/6/2018 21:44  19.74  6.080370e+12   \n",
       "\n",
       "    driver_count      type  \n",
       "0             12     Urban  \n",
       "18            26     Urban  \n",
       "40            11  Suburban  \n",
       "56            22  Suburban  \n",
       "74             7     Rural  "
      ]
     },
     "execution_count": 5,
     "metadata": {},
     "output_type": "execute_result"
    }
   ],
   "source": [
    "no_duplicates = test.drop_duplicates(\"city\", keep = \"first\")\n",
    "no_duplicates.head()"
   ]
  },
  {
   "cell_type": "code",
   "execution_count": 6,
   "metadata": {},
   "outputs": [
    {
     "data": {
      "text/plain": [
       "West Angela        39\n",
       "South Karenland    38\n",
       "North Jason        35\n",
       "Port Frank         33\n",
       "Liumouth           33\n",
       "Name: city, dtype: int64"
      ]
     },
     "execution_count": 6,
     "metadata": {},
     "output_type": "execute_result"
    }
   ],
   "source": [
    "total_rides = test['city'].value_counts()\n",
    "\n",
    "total_rides.head()"
   ]
  },
  {
   "cell_type": "code",
   "execution_count": 7,
   "metadata": {},
   "outputs": [
    {
     "data": {
      "text/html": [
       "<div>\n",
       "<style scoped>\n",
       "    .dataframe tbody tr th:only-of-type {\n",
       "        vertical-align: middle;\n",
       "    }\n",
       "\n",
       "    .dataframe tbody tr th {\n",
       "        vertical-align: top;\n",
       "    }\n",
       "\n",
       "    .dataframe thead th {\n",
       "        text-align: right;\n",
       "    }\n",
       "</style>\n",
       "<table border=\"1\" class=\"dataframe\">\n",
       "  <thead>\n",
       "    <tr style=\"text-align: right;\">\n",
       "      <th></th>\n",
       "      <th>index</th>\n",
       "      <th>city</th>\n",
       "    </tr>\n",
       "  </thead>\n",
       "  <tbody>\n",
       "    <tr>\n",
       "      <th>0</th>\n",
       "      <td>West Angela</td>\n",
       "      <td>39</td>\n",
       "    </tr>\n",
       "    <tr>\n",
       "      <th>1</th>\n",
       "      <td>South Karenland</td>\n",
       "      <td>38</td>\n",
       "    </tr>\n",
       "    <tr>\n",
       "      <th>2</th>\n",
       "      <td>North Jason</td>\n",
       "      <td>35</td>\n",
       "    </tr>\n",
       "    <tr>\n",
       "      <th>3</th>\n",
       "      <td>Port Frank</td>\n",
       "      <td>33</td>\n",
       "    </tr>\n",
       "    <tr>\n",
       "      <th>4</th>\n",
       "      <td>Liumouth</td>\n",
       "      <td>33</td>\n",
       "    </tr>\n",
       "  </tbody>\n",
       "</table>\n",
       "</div>"
      ],
      "text/plain": [
       "             index  city\n",
       "0      West Angela    39\n",
       "1  South Karenland    38\n",
       "2      North Jason    35\n",
       "3       Port Frank    33\n",
       "4         Liumouth    33"
      ]
     },
     "execution_count": 7,
     "metadata": {},
     "output_type": "execute_result"
    }
   ],
   "source": [
    "total_rides = total_rides.to_frame().reset_index()\n",
    "total_rides.head()"
   ]
  },
  {
   "cell_type": "code",
   "execution_count": 8,
   "metadata": {},
   "outputs": [
    {
     "data": {
      "text/html": [
       "<div>\n",
       "<style scoped>\n",
       "    .dataframe tbody tr th:only-of-type {\n",
       "        vertical-align: middle;\n",
       "    }\n",
       "\n",
       "    .dataframe tbody tr th {\n",
       "        vertical-align: top;\n",
       "    }\n",
       "\n",
       "    .dataframe thead th {\n",
       "        text-align: right;\n",
       "    }\n",
       "</style>\n",
       "<table border=\"1\" class=\"dataframe\">\n",
       "  <thead>\n",
       "    <tr style=\"text-align: right;\">\n",
       "      <th></th>\n",
       "      <th>city</th>\n",
       "      <th>rides</th>\n",
       "    </tr>\n",
       "  </thead>\n",
       "  <tbody>\n",
       "    <tr>\n",
       "      <th>0</th>\n",
       "      <td>West Angela</td>\n",
       "      <td>39</td>\n",
       "    </tr>\n",
       "    <tr>\n",
       "      <th>1</th>\n",
       "      <td>South Karenland</td>\n",
       "      <td>38</td>\n",
       "    </tr>\n",
       "    <tr>\n",
       "      <th>2</th>\n",
       "      <td>North Jason</td>\n",
       "      <td>35</td>\n",
       "    </tr>\n",
       "    <tr>\n",
       "      <th>3</th>\n",
       "      <td>Port Frank</td>\n",
       "      <td>33</td>\n",
       "    </tr>\n",
       "    <tr>\n",
       "      <th>4</th>\n",
       "      <td>Liumouth</td>\n",
       "      <td>33</td>\n",
       "    </tr>\n",
       "  </tbody>\n",
       "</table>\n",
       "</div>"
      ],
      "text/plain": [
       "              city  rides\n",
       "0      West Angela     39\n",
       "1  South Karenland     38\n",
       "2      North Jason     35\n",
       "3       Port Frank     33\n",
       "4         Liumouth     33"
      ]
     },
     "execution_count": 8,
     "metadata": {},
     "output_type": "execute_result"
    }
   ],
   "source": [
    "total_rides.columns = ['city', 'rides']\n",
    "total_rides.head()"
   ]
  },
  {
   "cell_type": "code",
   "execution_count": 9,
   "metadata": {},
   "outputs": [
    {
     "data": {
      "text/plain": [
       "city             object\n",
       "avg_fare        float64\n",
       "date             object\n",
       "fare            float64\n",
       "ride_id         float64\n",
       "driver_count      int64\n",
       "type             object\n",
       "dtype: object"
      ]
     },
     "execution_count": 9,
     "metadata": {},
     "output_type": "execute_result"
    }
   ],
   "source": [
    "no_duplicates.dtypes"
   ]
  },
  {
   "cell_type": "code",
   "execution_count": 10,
   "metadata": {},
   "outputs": [
    {
     "data": {
      "text/html": [
       "<div>\n",
       "<style scoped>\n",
       "    .dataframe tbody tr th:only-of-type {\n",
       "        vertical-align: middle;\n",
       "    }\n",
       "\n",
       "    .dataframe tbody tr th {\n",
       "        vertical-align: top;\n",
       "    }\n",
       "\n",
       "    .dataframe thead th {\n",
       "        text-align: right;\n",
       "    }\n",
       "</style>\n",
       "<table border=\"1\" class=\"dataframe\">\n",
       "  <thead>\n",
       "    <tr style=\"text-align: right;\">\n",
       "      <th></th>\n",
       "      <th>city</th>\n",
       "      <th>avg_fare</th>\n",
       "      <th>date</th>\n",
       "      <th>fare</th>\n",
       "      <th>ride_id</th>\n",
       "      <th>driver_count</th>\n",
       "      <th>type</th>\n",
       "      <th>rides</th>\n",
       "    </tr>\n",
       "  </thead>\n",
       "  <tbody>\n",
       "    <tr>\n",
       "      <th>0</th>\n",
       "      <td>Amandaburgh</td>\n",
       "      <td>24.641667</td>\n",
       "      <td>3/5/2018 2:15</td>\n",
       "      <td>26.28</td>\n",
       "      <td>9.068510e+11</td>\n",
       "      <td>12</td>\n",
       "      <td>Urban</td>\n",
       "      <td>18</td>\n",
       "    </tr>\n",
       "    <tr>\n",
       "      <th>1</th>\n",
       "      <td>Barajasview</td>\n",
       "      <td>25.332273</td>\n",
       "      <td>1/15/2018 2:59</td>\n",
       "      <td>19.52</td>\n",
       "      <td>8.268110e+12</td>\n",
       "      <td>26</td>\n",
       "      <td>Urban</td>\n",
       "      <td>22</td>\n",
       "    </tr>\n",
       "    <tr>\n",
       "      <th>2</th>\n",
       "      <td>Barronchester</td>\n",
       "      <td>36.422500</td>\n",
       "      <td>1/27/2018 3:08</td>\n",
       "      <td>27.79</td>\n",
       "      <td>6.653620e+12</td>\n",
       "      <td>11</td>\n",
       "      <td>Suburban</td>\n",
       "      <td>16</td>\n",
       "    </tr>\n",
       "    <tr>\n",
       "      <th>3</th>\n",
       "      <td>Bethanyland</td>\n",
       "      <td>32.956111</td>\n",
       "      <td>4/1/2018 22:04</td>\n",
       "      <td>38.71</td>\n",
       "      <td>8.221080e+12</td>\n",
       "      <td>22</td>\n",
       "      <td>Suburban</td>\n",
       "      <td>18</td>\n",
       "    </tr>\n",
       "    <tr>\n",
       "      <th>4</th>\n",
       "      <td>Bradshawfurt</td>\n",
       "      <td>40.064000</td>\n",
       "      <td>3/6/2018 21:44</td>\n",
       "      <td>19.74</td>\n",
       "      <td>6.080370e+12</td>\n",
       "      <td>7</td>\n",
       "      <td>Rural</td>\n",
       "      <td>10</td>\n",
       "    </tr>\n",
       "  </tbody>\n",
       "</table>\n",
       "</div>"
      ],
      "text/plain": [
       "            city   avg_fare            date   fare       ride_id  \\\n",
       "0    Amandaburgh  24.641667   3/5/2018 2:15  26.28  9.068510e+11   \n",
       "1    Barajasview  25.332273  1/15/2018 2:59  19.52  8.268110e+12   \n",
       "2  Barronchester  36.422500  1/27/2018 3:08  27.79  6.653620e+12   \n",
       "3    Bethanyland  32.956111  4/1/2018 22:04  38.71  8.221080e+12   \n",
       "4   Bradshawfurt  40.064000  3/6/2018 21:44  19.74  6.080370e+12   \n",
       "\n",
       "   driver_count      type  rides  \n",
       "0            12     Urban     18  \n",
       "1            26     Urban     22  \n",
       "2            11  Suburban     16  \n",
       "3            22  Suburban     18  \n",
       "4             7     Rural     10  "
      ]
     },
     "execution_count": 10,
     "metadata": {},
     "output_type": "execute_result"
    }
   ],
   "source": [
    "no_duplicates = pd.merge(no_duplicates, total_rides, on=\"city\")\n",
    "no_duplicates.head()"
   ]
  },
  {
   "cell_type": "code",
   "execution_count": 11,
   "metadata": {},
   "outputs": [
    {
     "data": {
      "text/html": [
       "<div>\n",
       "<style scoped>\n",
       "    .dataframe tbody tr th:only-of-type {\n",
       "        vertical-align: middle;\n",
       "    }\n",
       "\n",
       "    .dataframe tbody tr th {\n",
       "        vertical-align: top;\n",
       "    }\n",
       "\n",
       "    .dataframe thead th {\n",
       "        text-align: right;\n",
       "    }\n",
       "</style>\n",
       "<table border=\"1\" class=\"dataframe\">\n",
       "  <thead>\n",
       "    <tr style=\"text-align: right;\">\n",
       "      <th></th>\n",
       "      <th>city</th>\n",
       "      <th>avg_fare</th>\n",
       "      <th>date</th>\n",
       "      <th>fare</th>\n",
       "      <th>ride_id</th>\n",
       "      <th>driver_count</th>\n",
       "      <th>type</th>\n",
       "      <th>rides</th>\n",
       "    </tr>\n",
       "  </thead>\n",
       "  <tbody>\n",
       "    <tr>\n",
       "      <th>4</th>\n",
       "      <td>Bradshawfurt</td>\n",
       "      <td>40.064000</td>\n",
       "      <td>3/6/2018 21:44</td>\n",
       "      <td>19.74</td>\n",
       "      <td>6.080370e+12</td>\n",
       "      <td>7</td>\n",
       "      <td>Rural</td>\n",
       "      <td>10</td>\n",
       "    </tr>\n",
       "    <tr>\n",
       "      <th>17</th>\n",
       "      <td>Garzaport</td>\n",
       "      <td>24.123333</td>\n",
       "      <td>2/18/2018 18:27</td>\n",
       "      <td>36.16</td>\n",
       "      <td>2.928340e+12</td>\n",
       "      <td>7</td>\n",
       "      <td>Rural</td>\n",
       "      <td>3</td>\n",
       "    </tr>\n",
       "    <tr>\n",
       "      <th>20</th>\n",
       "      <td>Harringtonfort</td>\n",
       "      <td>33.470000</td>\n",
       "      <td>1/6/2018 7:38</td>\n",
       "      <td>47.33</td>\n",
       "      <td>3.849750e+12</td>\n",
       "      <td>4</td>\n",
       "      <td>Rural</td>\n",
       "      <td>6</td>\n",
       "    </tr>\n",
       "    <tr>\n",
       "      <th>24</th>\n",
       "      <td>Jessicaport</td>\n",
       "      <td>36.013333</td>\n",
       "      <td>1/1/2018 9:45</td>\n",
       "      <td>43.69</td>\n",
       "      <td>2.424880e+12</td>\n",
       "      <td>1</td>\n",
       "      <td>Rural</td>\n",
       "      <td>6</td>\n",
       "    </tr>\n",
       "    <tr>\n",
       "      <th>33</th>\n",
       "      <td>Lake Jamie</td>\n",
       "      <td>34.358333</td>\n",
       "      <td>3/13/2018 6:41</td>\n",
       "      <td>26.09</td>\n",
       "      <td>1.599160e+12</td>\n",
       "      <td>4</td>\n",
       "      <td>Rural</td>\n",
       "      <td>6</td>\n",
       "    </tr>\n",
       "  </tbody>\n",
       "</table>\n",
       "</div>"
      ],
      "text/plain": [
       "              city   avg_fare             date   fare       ride_id  \\\n",
       "4     Bradshawfurt  40.064000   3/6/2018 21:44  19.74  6.080370e+12   \n",
       "17       Garzaport  24.123333  2/18/2018 18:27  36.16  2.928340e+12   \n",
       "20  Harringtonfort  33.470000    1/6/2018 7:38  47.33  3.849750e+12   \n",
       "24     Jessicaport  36.013333    1/1/2018 9:45  43.69  2.424880e+12   \n",
       "33      Lake Jamie  34.358333   3/13/2018 6:41  26.09  1.599160e+12   \n",
       "\n",
       "    driver_count   type  rides  \n",
       "4              7  Rural     10  \n",
       "17             7  Rural      3  \n",
       "20             4  Rural      6  \n",
       "24             1  Rural      6  \n",
       "33             4  Rural      6  "
      ]
     },
     "execution_count": 11,
     "metadata": {},
     "output_type": "execute_result"
    }
   ],
   "source": [
    "rural = no_duplicates[no_duplicates[\"type\"] == \"Rural\"]\n",
    "rural.head()"
   ]
  },
  {
   "cell_type": "code",
   "execution_count": 12,
   "metadata": {},
   "outputs": [
    {
     "data": {
      "text/html": [
       "<div>\n",
       "<style scoped>\n",
       "    .dataframe tbody tr th:only-of-type {\n",
       "        vertical-align: middle;\n",
       "    }\n",
       "\n",
       "    .dataframe tbody tr th {\n",
       "        vertical-align: top;\n",
       "    }\n",
       "\n",
       "    .dataframe thead th {\n",
       "        text-align: right;\n",
       "    }\n",
       "</style>\n",
       "<table border=\"1\" class=\"dataframe\">\n",
       "  <thead>\n",
       "    <tr style=\"text-align: right;\">\n",
       "      <th></th>\n",
       "      <th>city</th>\n",
       "      <th>avg_fare</th>\n",
       "      <th>date</th>\n",
       "      <th>fare</th>\n",
       "      <th>ride_id</th>\n",
       "      <th>driver_count</th>\n",
       "      <th>type</th>\n",
       "      <th>rides</th>\n",
       "    </tr>\n",
       "  </thead>\n",
       "  <tbody>\n",
       "    <tr>\n",
       "      <th>0</th>\n",
       "      <td>Amandaburgh</td>\n",
       "      <td>24.641667</td>\n",
       "      <td>3/5/2018 2:15</td>\n",
       "      <td>26.28</td>\n",
       "      <td>9.068510e+11</td>\n",
       "      <td>12</td>\n",
       "      <td>Urban</td>\n",
       "      <td>18</td>\n",
       "    </tr>\n",
       "    <tr>\n",
       "      <th>1</th>\n",
       "      <td>Barajasview</td>\n",
       "      <td>25.332273</td>\n",
       "      <td>1/15/2018 2:59</td>\n",
       "      <td>19.52</td>\n",
       "      <td>8.268110e+12</td>\n",
       "      <td>26</td>\n",
       "      <td>Urban</td>\n",
       "      <td>22</td>\n",
       "    </tr>\n",
       "    <tr>\n",
       "      <th>6</th>\n",
       "      <td>Carriemouth</td>\n",
       "      <td>28.314444</td>\n",
       "      <td>2/25/2018 8:26</td>\n",
       "      <td>32.37</td>\n",
       "      <td>6.918430e+12</td>\n",
       "      <td>52</td>\n",
       "      <td>Urban</td>\n",
       "      <td>27</td>\n",
       "    </tr>\n",
       "    <tr>\n",
       "      <th>7</th>\n",
       "      <td>Christopherfurt</td>\n",
       "      <td>24.501852</td>\n",
       "      <td>4/17/2018 2:25</td>\n",
       "      <td>23.30</td>\n",
       "      <td>7.819060e+12</td>\n",
       "      <td>41</td>\n",
       "      <td>Urban</td>\n",
       "      <td>27</td>\n",
       "    </tr>\n",
       "    <tr>\n",
       "      <th>10</th>\n",
       "      <td>Deanville</td>\n",
       "      <td>25.842632</td>\n",
       "      <td>4/25/2018 3:29</td>\n",
       "      <td>41.52</td>\n",
       "      <td>6.055930e+12</td>\n",
       "      <td>49</td>\n",
       "      <td>Urban</td>\n",
       "      <td>19</td>\n",
       "    </tr>\n",
       "  </tbody>\n",
       "</table>\n",
       "</div>"
      ],
      "text/plain": [
       "               city   avg_fare            date   fare       ride_id  \\\n",
       "0       Amandaburgh  24.641667   3/5/2018 2:15  26.28  9.068510e+11   \n",
       "1       Barajasview  25.332273  1/15/2018 2:59  19.52  8.268110e+12   \n",
       "6       Carriemouth  28.314444  2/25/2018 8:26  32.37  6.918430e+12   \n",
       "7   Christopherfurt  24.501852  4/17/2018 2:25  23.30  7.819060e+12   \n",
       "10        Deanville  25.842632  4/25/2018 3:29  41.52  6.055930e+12   \n",
       "\n",
       "    driver_count   type  rides  \n",
       "0             12  Urban     18  \n",
       "1             26  Urban     22  \n",
       "6             52  Urban     27  \n",
       "7             41  Urban     27  \n",
       "10            49  Urban     19  "
      ]
     },
     "execution_count": 12,
     "metadata": {},
     "output_type": "execute_result"
    }
   ],
   "source": [
    "urban = no_duplicates[no_duplicates[\"type\"] == \"Urban\"]\n",
    "urban.head()"
   ]
  },
  {
   "cell_type": "code",
   "execution_count": 13,
   "metadata": {},
   "outputs": [
    {
     "data": {
      "text/html": [
       "<div>\n",
       "<style scoped>\n",
       "    .dataframe tbody tr th:only-of-type {\n",
       "        vertical-align: middle;\n",
       "    }\n",
       "\n",
       "    .dataframe tbody tr th {\n",
       "        vertical-align: top;\n",
       "    }\n",
       "\n",
       "    .dataframe thead th {\n",
       "        text-align: right;\n",
       "    }\n",
       "</style>\n",
       "<table border=\"1\" class=\"dataframe\">\n",
       "  <thead>\n",
       "    <tr style=\"text-align: right;\">\n",
       "      <th></th>\n",
       "      <th>city</th>\n",
       "      <th>avg_fare</th>\n",
       "      <th>date</th>\n",
       "      <th>fare</th>\n",
       "      <th>ride_id</th>\n",
       "      <th>driver_count</th>\n",
       "      <th>type</th>\n",
       "      <th>rides</th>\n",
       "    </tr>\n",
       "  </thead>\n",
       "  <tbody>\n",
       "    <tr>\n",
       "      <th>2</th>\n",
       "      <td>Barronchester</td>\n",
       "      <td>36.422500</td>\n",
       "      <td>1/27/2018 3:08</td>\n",
       "      <td>27.79</td>\n",
       "      <td>6.653620e+12</td>\n",
       "      <td>11</td>\n",
       "      <td>Suburban</td>\n",
       "      <td>16</td>\n",
       "    </tr>\n",
       "    <tr>\n",
       "      <th>3</th>\n",
       "      <td>Bethanyland</td>\n",
       "      <td>32.956111</td>\n",
       "      <td>4/1/2018 22:04</td>\n",
       "      <td>38.71</td>\n",
       "      <td>8.221080e+12</td>\n",
       "      <td>22</td>\n",
       "      <td>Suburban</td>\n",
       "      <td>18</td>\n",
       "    </tr>\n",
       "    <tr>\n",
       "      <th>5</th>\n",
       "      <td>Brandonfort</td>\n",
       "      <td>35.437368</td>\n",
       "      <td>1/14/2018 12:35</td>\n",
       "      <td>28.02</td>\n",
       "      <td>8.100260e+12</td>\n",
       "      <td>10</td>\n",
       "      <td>Suburban</td>\n",
       "      <td>19</td>\n",
       "    </tr>\n",
       "    <tr>\n",
       "      <th>8</th>\n",
       "      <td>Colemanland</td>\n",
       "      <td>30.894545</td>\n",
       "      <td>4/20/2018 2:52</td>\n",
       "      <td>20.83</td>\n",
       "      <td>2.981570e+12</td>\n",
       "      <td>23</td>\n",
       "      <td>Suburban</td>\n",
       "      <td>22</td>\n",
       "    </tr>\n",
       "    <tr>\n",
       "      <th>9</th>\n",
       "      <td>Davidfurt</td>\n",
       "      <td>31.995882</td>\n",
       "      <td>1/5/2018 13:42</td>\n",
       "      <td>31.48</td>\n",
       "      <td>1.953920e+12</td>\n",
       "      <td>23</td>\n",
       "      <td>Suburban</td>\n",
       "      <td>17</td>\n",
       "    </tr>\n",
       "  </tbody>\n",
       "</table>\n",
       "</div>"
      ],
      "text/plain": [
       "            city   avg_fare             date   fare       ride_id  \\\n",
       "2  Barronchester  36.422500   1/27/2018 3:08  27.79  6.653620e+12   \n",
       "3    Bethanyland  32.956111   4/1/2018 22:04  38.71  8.221080e+12   \n",
       "5    Brandonfort  35.437368  1/14/2018 12:35  28.02  8.100260e+12   \n",
       "8    Colemanland  30.894545   4/20/2018 2:52  20.83  2.981570e+12   \n",
       "9      Davidfurt  31.995882   1/5/2018 13:42  31.48  1.953920e+12   \n",
       "\n",
       "   driver_count      type  rides  \n",
       "2            11  Suburban     16  \n",
       "3            22  Suburban     18  \n",
       "5            10  Suburban     19  \n",
       "8            23  Suburban     22  \n",
       "9            23  Suburban     17  "
      ]
     },
     "execution_count": 13,
     "metadata": {},
     "output_type": "execute_result"
    }
   ],
   "source": [
    "suburban = no_duplicates[no_duplicates[\"type\"] == \"Suburban\"]\n",
    "suburban.head()"
   ]
  },
  {
   "cell_type": "code",
   "execution_count": 14,
   "metadata": {
    "scrolled": false
   },
   "outputs": [
    {
     "data": {
      "image/png": "[encoded data removed]",
      "text/plain": [
       "<Figure size 432x288 with 1 Axes>"
      ]
     },
     "metadata": {
      "needs_background": "light"
     },
     "output_type": "display_data"
    }
   ],
   "source": [
    "plt.scatter(rural['rides'], rural['avg_fare'], s=rural['driver_count']*15, color=\"Gold\", label=\"Rural\", alpha=0.75, edgecolors=\"black\")\n",
    "plt.scatter(urban['rides'], urban['avg_fare'], s=urban['driver_count']*15, color=\"Coral\", label=\"Urban\", alpha=0.75, edgecolors=\"black\")\n",
    "plt.scatter(suburban['rides'], suburban['avg_fare'], s=suburban['driver_count']*15, color=\"SkyBlue\", label=\"Suburban\", alpha=0.75, edgecolors=\"black\")\n",
    "plt.grid()\n",
    "plt.xlim(0, 41)\n",
    "plt.ylim(18, 45)\n",
    "plt.title(\"Pyber Ride Sharing Data (2016)\")\n",
    "plt.xlabel(\"Total Number of Riders (Per City)\")\n",
    "plt.ylabel(\"Average Fare ($)\")\n",
    "lgnd = plt.legend(title=\"City Types\", loc=\"best\")\n",
    "lgnd.legendHandles[0]._sizes = [25]\n",
    "lgnd.legendHandles[1]._sizes = [25]\n",
    "lgnd.legendHandles[2]._sizes = [25]\n",
    "plt.savefig(\"Bubble\")\n",
    "plt.show()"
   ]
  },
  {
   "cell_type": "code",
   "execution_count": 15,
   "metadata": {},
   "outputs": [
    {
     "data": {
      "text/plain": [
       "125"
      ]
     },
     "execution_count": 15,
     "metadata": {},
     "output_type": "execute_result"
    }
   ],
   "source": [
    "rural_rides = rural.sum()['rides']\n",
    "rural_rides"
   ]
  },
  {
   "cell_type": "code",
   "execution_count": 16,
   "metadata": {},
   "outputs": [
    {
     "data": {
      "text/plain": [
       "1625"
      ]
     },
     "execution_count": 16,
     "metadata": {},
     "output_type": "execute_result"
    }
   ],
   "source": [
    "urban_rides = urban.sum()['rides']\n",
    "urban_rides"
   ]
  },
  {
   "cell_type": "code",
   "execution_count": 17,
   "metadata": {},
   "outputs": [
    {
     "data": {
      "text/plain": [
       "625"
      ]
     },
     "execution_count": 17,
     "metadata": {},
     "output_type": "execute_result"
    }
   ],
   "source": [
    "suburban_rides = suburban.sum()['rides']\n",
    "suburban_rides"
   ]
  },
  {
   "cell_type": "code",
   "execution_count": 18,
   "metadata": {},
   "outputs": [
    {
     "data": {
      "text/html": [
       "<div>\n",
       "<style scoped>\n",
       "    .dataframe tbody tr th:only-of-type {\n",
       "        vertical-align: middle;\n",
       "    }\n",
       "\n",
       "    .dataframe tbody tr th {\n",
       "        vertical-align: top;\n",
       "    }\n",
       "\n",
       "    .dataframe thead th {\n",
       "        text-align: right;\n",
       "    }\n",
       "</style>\n",
       "<table border=\"1\" class=\"dataframe\">\n",
       "  <thead>\n",
       "    <tr style=\"text-align: right;\">\n",
       "      <th></th>\n",
       "      <th>city</th>\n",
       "      <th>avg_fare</th>\n",
       "      <th>date</th>\n",
       "      <th>fare</th>\n",
       "      <th>ride_id</th>\n",
       "      <th>driver_count</th>\n",
       "      <th>type</th>\n",
       "      <th>rides</th>\n",
       "    </tr>\n",
       "  </thead>\n",
       "  <tbody>\n",
       "    <tr>\n",
       "      <th>0</th>\n",
       "      <td>Amandaburgh</td>\n",
       "      <td>24.641667</td>\n",
       "      <td>3/5/2018 2:15</td>\n",
       "      <td>26.28</td>\n",
       "      <td>9.068510e+11</td>\n",
       "      <td>12</td>\n",
       "      <td>Urban</td>\n",
       "      <td>18</td>\n",
       "    </tr>\n",
       "    <tr>\n",
       "      <th>1</th>\n",
       "      <td>Barajasview</td>\n",
       "      <td>25.332273</td>\n",
       "      <td>1/15/2018 2:59</td>\n",
       "      <td>19.52</td>\n",
       "      <td>8.268110e+12</td>\n",
       "      <td>26</td>\n",
       "      <td>Urban</td>\n",
       "      <td>22</td>\n",
       "    </tr>\n",
       "    <tr>\n",
       "      <th>2</th>\n",
       "      <td>Barronchester</td>\n",
       "      <td>36.422500</td>\n",
       "      <td>1/27/2018 3:08</td>\n",
       "      <td>27.79</td>\n",
       "      <td>6.653620e+12</td>\n",
       "      <td>11</td>\n",
       "      <td>Suburban</td>\n",
       "      <td>16</td>\n",
       "    </tr>\n",
       "    <tr>\n",
       "      <th>3</th>\n",
       "      <td>Bethanyland</td>\n",
       "      <td>32.956111</td>\n",
       "      <td>4/1/2018 22:04</td>\n",
       "      <td>38.71</td>\n",
       "      <td>8.221080e+12</td>\n",
       "      <td>22</td>\n",
       "      <td>Suburban</td>\n",
       "      <td>18</td>\n",
       "    </tr>\n",
       "    <tr>\n",
       "      <th>4</th>\n",
       "      <td>Bradshawfurt</td>\n",
       "      <td>40.064000</td>\n",
       "      <td>3/6/2018 21:44</td>\n",
       "      <td>19.74</td>\n",
       "      <td>6.080370e+12</td>\n",
       "      <td>7</td>\n",
       "      <td>Rural</td>\n",
       "      <td>10</td>\n",
       "    </tr>\n",
       "  </tbody>\n",
       "</table>\n",
       "</div>"
      ],
      "text/plain": [
       "            city   avg_fare            date   fare       ride_id  \\\n",
       "0    Amandaburgh  24.641667   3/5/2018 2:15  26.28  9.068510e+11   \n",
       "1    Barajasview  25.332273  1/15/2018 2:59  19.52  8.268110e+12   \n",
       "2  Barronchester  36.422500  1/27/2018 3:08  27.79  6.653620e+12   \n",
       "3    Bethanyland  32.956111  4/1/2018 22:04  38.71  8.221080e+12   \n",
       "4   Bradshawfurt  40.064000  3/6/2018 21:44  19.74  6.080370e+12   \n",
       "\n",
       "   driver_count      type  rides  \n",
       "0            12     Urban     18  \n",
       "1            26     Urban     22  \n",
       "2            11  Suburban     16  \n",
       "3            22  Suburban     18  \n",
       "4             7     Rural     10  "
      ]
     },
     "execution_count": 18,
     "metadata": {},
     "output_type": "execute_result"
    }
   ],
   "source": [
    "no_duplicates.head()"
   ]
  },
  {
   "cell_type": "code",
   "execution_count": 19,
   "metadata": {},
   "outputs": [
    {
     "data": {
      "text/plain": [
       "type\n",
       "Rural        4327.93\n",
       "Suburban    19356.33\n",
       "Urban       39854.38\n",
       "Name: fare, dtype: float64"
      ]
     },
     "execution_count": 19,
     "metadata": {},
     "output_type": "execute_result"
    }
   ],
   "source": [
    "total_fares = merged_df.groupby([\"type\"])[\"fare\"].sum()\n",
    "total_fares.head()"
   ]
  },
  {
   "cell_type": "code",
   "execution_count": 20,
   "metadata": {},
   "outputs": [
    {
     "data": {
      "image/png": "[encoded data removed]",
      "text/plain": [
       "<Figure size 432x288 with 1 Axes>"
      ]
     },
     "metadata": {},
     "output_type": "display_data"
    }
   ],
   "source": [
    "colors = [\"Gold\", \"SkyBlue\", \"Coral\"]\n",
    "explode = [0, 0, 0.1]\n",
    "plt.pie(total_fares, startangle=150, explode=explode, colors=colors, shadow=True, labels = total_fares.index, autopct=\"%1.1f%%\")\n",
    "plt.title(\"% of Total Fares by City Type\")\n",
    "plt.show\n",
    "\n",
    "# Save Figure\n",
    "\n",
    "plt.savefig(\"..TotalFaresbyCityType\")"
   ]
  },
  {
   "cell_type": "code",
   "execution_count": 21,
   "metadata": {},
   "outputs": [],
   "source": [
    "type_group = no_duplicates.groupby('type')[\"type\", \"fare\", \"rides\", \"driver_count\"]\n",
    "total_rides = type_group.sum()['rides']"
   ]
  },
  {
   "cell_type": "code",
   "execution_count": 22,
   "metadata": {},
   "outputs": [
    {
     "data": {
      "text/plain": [
       "type\n",
       "Rural        125\n",
       "Suburban     625\n",
       "Urban       1625\n",
       "Name: rides, dtype: int64"
      ]
     },
     "execution_count": 22,
     "metadata": {},
     "output_type": "execute_result"
    }
   ],
   "source": [
    "total_rides"
   ]
  },
  {
   "cell_type": "code",
   "execution_count": 23,
   "metadata": {
    "scrolled": true
   },
   "outputs": [
    {
     "data": {
      "image/png": "[encoded data removed]",
      "text/plain": [
       "<Figure size 432x288 with 1 Axes>"
      ]
     },
     "metadata": {},
     "output_type": "display_data"
    }
   ],
   "source": [
    "# Total Fares by City Type\n",
    "# Calculate Type Percents\n",
    "\n",
    "# Build Pie Chart\n",
    "\n",
    "colors = [\"Gold\", \"SkyBlue\", \"Coral\"]\n",
    "explode = [0, 0, 0.1]\n",
    "plt.pie(total_rides, startangle=150, explode=explode, colors=colors, shadow=True, labels = total_rides.index, autopct=\"%1.1f%%\")\n",
    "plt.title(\"% of Total Rides by City Type\")\n",
    "plt.show\n",
    "\n",
    "# Save Figure\n",
    "\n",
    "plt.savefig(\"..TotalRidesbyCityType\")"
   ]
  },
  {
   "cell_type": "code",
   "execution_count": 24,
   "metadata": {},
   "outputs": [
    {
     "data": {
      "text/html": [
       "<div>\n",
       "<style scoped>\n",
       "    .dataframe tbody tr th:only-of-type {\n",
       "        vertical-align: middle;\n",
       "    }\n",
       "\n",
       "    .dataframe tbody tr th {\n",
       "        vertical-align: top;\n",
       "    }\n",
       "\n",
       "    .dataframe thead th {\n",
       "        text-align: right;\n",
       "    }\n",
       "</style>\n",
       "<table border=\"1\" class=\"dataframe\">\n",
       "  <thead>\n",
       "    <tr style=\"text-align: right;\">\n",
       "      <th></th>\n",
       "      <th>city</th>\n",
       "      <th>avg_fare</th>\n",
       "      <th>date</th>\n",
       "      <th>fare</th>\n",
       "      <th>ride_id</th>\n",
       "      <th>driver_count</th>\n",
       "      <th>type</th>\n",
       "      <th>rides</th>\n",
       "    </tr>\n",
       "  </thead>\n",
       "  <tbody>\n",
       "    <tr>\n",
       "      <th>0</th>\n",
       "      <td>Amandaburgh</td>\n",
       "      <td>24.641667</td>\n",
       "      <td>3/5/2018 2:15</td>\n",
       "      <td>26.28</td>\n",
       "      <td>9.068510e+11</td>\n",
       "      <td>12</td>\n",
       "      <td>Urban</td>\n",
       "      <td>18</td>\n",
       "    </tr>\n",
       "    <tr>\n",
       "      <th>1</th>\n",
       "      <td>Barajasview</td>\n",
       "      <td>25.332273</td>\n",
       "      <td>1/15/2018 2:59</td>\n",
       "      <td>19.52</td>\n",
       "      <td>8.268110e+12</td>\n",
       "      <td>26</td>\n",
       "      <td>Urban</td>\n",
       "      <td>22</td>\n",
       "    </tr>\n",
       "    <tr>\n",
       "      <th>2</th>\n",
       "      <td>Barronchester</td>\n",
       "      <td>36.422500</td>\n",
       "      <td>1/27/2018 3:08</td>\n",
       "      <td>27.79</td>\n",
       "      <td>6.653620e+12</td>\n",
       "      <td>11</td>\n",
       "      <td>Suburban</td>\n",
       "      <td>16</td>\n",
       "    </tr>\n",
       "    <tr>\n",
       "      <th>3</th>\n",
       "      <td>Bethanyland</td>\n",
       "      <td>32.956111</td>\n",
       "      <td>4/1/2018 22:04</td>\n",
       "      <td>38.71</td>\n",
       "      <td>8.221080e+12</td>\n",
       "      <td>22</td>\n",
       "      <td>Suburban</td>\n",
       "      <td>18</td>\n",
       "    </tr>\n",
       "    <tr>\n",
       "      <th>4</th>\n",
       "      <td>Bradshawfurt</td>\n",
       "      <td>40.064000</td>\n",
       "      <td>3/6/2018 21:44</td>\n",
       "      <td>19.74</td>\n",
       "      <td>6.080370e+12</td>\n",
       "      <td>7</td>\n",
       "      <td>Rural</td>\n",
       "      <td>10</td>\n",
       "    </tr>\n",
       "  </tbody>\n",
       "</table>\n",
       "</div>"
      ],
      "text/plain": [
       "            city   avg_fare            date   fare       ride_id  \\\n",
       "0    Amandaburgh  24.641667   3/5/2018 2:15  26.28  9.068510e+11   \n",
       "1    Barajasview  25.332273  1/15/2018 2:59  19.52  8.268110e+12   \n",
       "2  Barronchester  36.422500  1/27/2018 3:08  27.79  6.653620e+12   \n",
       "3    Bethanyland  32.956111  4/1/2018 22:04  38.71  8.221080e+12   \n",
       "4   Bradshawfurt  40.064000  3/6/2018 21:44  19.74  6.080370e+12   \n",
       "\n",
       "   driver_count      type  rides  \n",
       "0            12     Urban     18  \n",
       "1            26     Urban     22  \n",
       "2            11  Suburban     16  \n",
       "3            22  Suburban     18  \n",
       "4             7     Rural     10  "
      ]
     },
     "execution_count": 24,
     "metadata": {},
     "output_type": "execute_result"
    }
   ],
   "source": [
    "no_duplicates.head()"
   ]
  },
  {
   "cell_type": "code",
   "execution_count": 25,
   "metadata": {},
   "outputs": [
    {
     "data": {
      "text/plain": [
       "type\n",
       "Rural         78\n",
       "Suburban     490\n",
       "Urban       2405\n",
       "Name: driver_count, dtype: int64"
      ]
     },
     "execution_count": 25,
     "metadata": {},
     "output_type": "execute_result"
    }
   ],
   "source": [
    "total_drivers = no_duplicates.groupby([\"type\"])[\"driver_count\"].sum()\n",
    "total_drivers.head()"
   ]
  },
  {
   "cell_type": "code",
   "execution_count": 26,
   "metadata": {},
   "outputs": [
    {
     "data": {
      "image/png": "[encoded data removed]",
      "text/plain": [
       "<Figure size 432x288 with 1 Axes>"
      ]
     },
     "metadata": {},
     "output_type": "display_data"
    }
   ],
   "source": [
    "# Total Fares by City Type\n",
    "# Calculate Type Percents\n",
    "\n",
    "# Build Pie Chart\n",
    "\n",
    "colors = [\"Gold\", \"SkyBlue\", \"Coral\"]\n",
    "explode = [0, 0, 0.1]\n",
    "plt.pie(total_drivers, startangle=150, explode=explode, colors=colors, shadow=True, labels = total_drivers.index, autopct=\"%1.1f%%\")\n",
    "plt.title(\"% of Total Drivers by City Type\")\n",
    "plt.show\n",
    "\n",
    "# Save Figure\n",
    "\n",
    "plt.savefig(\"..TotalDriversbyCityType\")"
   ]
  },
  {
   "cell_type": "code",
   "execution_count": null,
   "metadata": {},
   "outputs": [],
   "source": [
    "# Three Trends:\n",
    "# 1.\tMore people are riding in cities than outside of cities but the fares are typically smaller per ride\n",
    "# 2.\tRural has the least amount of riders but the highest variance of fares\n",
    "# 3.\tThere are a lot more drivers in cities than outside, particularly rural\n"
   ]
  }
 ],
 "metadata": {
  "kernelspec": {
   "display_name": "Python 3",
   "language": "python",
   "name": "python3"
  },
  "language_info": {
   "codemirror_mode": {
    "name": "ipython",
    "version": 3
   },
   "file_extension": ".py",
   "mimetype": "text/x-python",
   "name": "python",
   "nbconvert_exporter": "python",
   "pygments_lexer": "ipython3",
   "version": "3.7.1"
  }
 },
 "nbformat": 4,
 "nbformat_minor": 2
}
